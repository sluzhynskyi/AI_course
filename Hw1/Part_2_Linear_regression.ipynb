{
  "nbformat": 4,
  "nbformat_minor": 0,
  "metadata": {
    "kernelspec": {
      "name": "pycharm-2e77321",
      "language": "python",
      "display_name": "PyCharm (Hw1)"
    },
    "language_info": {
      "codemirror_mode": {
        "name": "ipython",
        "version": 3
      },
      "file_extension": ".py",
      "mimetype": "text/x-python",
      "name": "python",
      "nbconvert_exporter": "python",
      "pygments_lexer": "ipython3",
      "version": "3.7.3"
    },
    "colab": {
      "name": "Part_2_Linear_regression.ipynb",
      "provenance": [],
      "collapsed_sections": []
    }
  },
  "cells": [
    {
      "cell_type": "code",
      "metadata": {
        "id": "K4KC22oh4vCG",
        "colab_type": "code",
        "colab": {}
      },
      "source": [
        "%matplotlib inline\n",
        "from IPython.display import clear_output\n",
        "import matplotlib.pyplot as plt\n",
        "import numpy as np\n",
        "import time\n",
        "from sklearn.datasets import make_blobs, make_moons"
      ],
      "execution_count": 2,
      "outputs": []
    },
    {
      "cell_type": "code",
      "metadata": {
        "id": "qrE12gD44vCQ",
        "colab_type": "code",
        "colab": {}
      },
      "source": [
        "def add_intercept(X):\n",
        "    # to simplify calculations we add ones column to data for multiplication with intercept\n",
        "    intercept = np.ones((X.shape[0], 1))\n",
        "    return np.concatenate((intercept, X), axis=1)\n",
        "\n",
        "def vizualize_linear_regression(X, y, theta):\n",
        "    plt.scatter(X[:, 1], y, alpha=0.5)\n",
        "    x_axis = np.arange(np.min(X[:, 1]), np.max(X[:, 1]), 0.01).reshape(-1, 1)\n",
        "    y_axis = linear_predict(add_intercept(x_axis), theta)\n",
        "    plt.plot(x_axis, y_axis, lw=2, c=\"r\")\n",
        "    plt.show()\n",
        "\n",
        "def vizualize_logistic_regression(X, y, theta, treshold=0.5):\n",
        "    plt.scatter(X[:, 1], X[:, 2], c=y, alpha=0.5)\n",
        "    eps = 0.00000001\n",
        "    x_axis = np.arange(np.min(X[:, 1]), np.max(X[:, 1]), 0.01).reshape(-1, 1)\n",
        "    y_axis =  - (np.log((1-treshold)/treshold) + add_intercept(x_axis).dot(theta[:2])) / (theta[2] + eps)\n",
        "    plt.plot(x_axis, y_axis, lw=2, c=\"r\")\n",
        "    plt.show()\n",
        "    \n",
        "def data_generator_linear_regression(n=100, intercept=0, coef=np.array([1]), var=0.1):\n",
        "    X = np.random.rand(n, coef.shape[0]) \n",
        "    theta = np.insert(coef, 0, intercept)\n",
        "    y = add_intercept(X).dot(theta) + np.random.normal(0, var, (n))\n",
        "    return X, y\n",
        "\n",
        "def data_generator_logistic_regression(n=100, data=\"blobs\"):\n",
        "    if data == \"blobs\":\n",
        "        X, y = make_blobs(n, centers=2)\n",
        "    elif data == \"moons\":\n",
        "        X, y = make_moons(n)\n",
        "    return X, y"
      ],
      "execution_count": 3,
      "outputs": []
    },
    {
      "cell_type": "markdown",
      "metadata": {
        "id": "vfRjib0B4vCa",
        "colab_type": "text"
      },
      "source": [
        "# Linear regression"
      ]
    },
    {
      "cell_type": "markdown",
      "metadata": {
        "id": "MjXWMdrw4vCb",
        "colab_type": "text"
      },
      "source": [
        "(2 points) Implement predictor for linear regression:\n",
        "$$ h_\\theta (X) = \\theta^TX $$"
      ]
    },
    {
      "cell_type": "code",
      "metadata": {
        "id": "Klg0LKKY4vCd",
        "colab_type": "code",
        "colab": {}
      },
      "source": [
        "def linear_predict(X, theta):\n",
        "    t = theta.transpose()\n",
        "    return np.dot(theta,X.transpose())"
      ],
      "execution_count": 17,
      "outputs": []
    },
    {
      "cell_type": "markdown",
      "metadata": {
        "id": "_wwikbIA4vCk",
        "colab_type": "text"
      },
      "source": [
        "(3 points) Implement linear cost function:\n",
        "$$ J(\\theta) = \\dfrac{1}{2n}\\sum_{i=1}^{n}(h_\\theta (X^{(i)})-y^{(i)})^2 $$"
      ]
    },
    {
      "cell_type": "code",
      "metadata": {
        "id": "JFigQk524vCl",
        "colab_type": "code",
        "colab": {}
      },
      "source": [
        "def linear_cost(X, y, theta):\n",
        "    n = len(X)\n",
        "    return 1/ (2 *n)* np.sum((linear_predict(X, theta) - y)**2)\n"
      ],
      "execution_count": 29,
      "outputs": []
    },
    {
      "cell_type": "markdown",
      "metadata": {
        "id": "N6RtdvhQ4vCs",
        "colab_type": "text"
      },
      "source": [
        "(3 points) Implement gradient function for linear regression:\n",
        "$$\\frac{\\partial}{\\partial \\theta_j} J(\\theta) = \\dfrac{1}{n}\\sum_{i=1}^{n}\\left( h_\\theta(x^{(i)}) - y^{(i)} \\right) x^{(i)} $$"
      ]
    },
    {
      "cell_type": "code",
      "metadata": {
        "id": "dj0_ttSi4vCt",
        "colab_type": "code",
        "colab": {}
      },
      "source": [
        "def linear_gradient(X, y, theta):\n",
        "    n = len(X)\n",
        "    res = 0\n",
        "    for index in range(n):\n",
        "        res += (linear_predict(X[index], theta) - y[index]) * X[index]\n",
        "    return 1/ n * res"
      ],
      "execution_count": 49,
      "outputs": []
    },
    {
      "cell_type": "markdown",
      "metadata": {
        "id": "wqxOatWn4vC0",
        "colab_type": "text"
      },
      "source": [
        "(2 points) Implement weights initialization and weights update:\n",
        "$$ \\theta = \\theta - \\alpha \\nabla_\\theta J(\\theta) $$"
      ]
    },
    {
      "cell_type": "code",
      "metadata": {
        "id": "x3Pr90Qx4vC1",
        "colab_type": "code",
        "colab": {
          "base_uri": "https://localhost:8080/",
          "height": 133
        },
        "outputId": "a9165f49-8059-4aac-ab5b-bc793a565b96"
      },
      "source": [
        "def fit_linear(X, y, lr=2, max_iter=10, epsilon=0.01, visualize=False):\n",
        "    X = add_intercept(X)\n",
        "    # randomly initialize weights vector with ones coresponding to X shape\n",
        "    theta = # Your code hear\n",
        "    cost = linear_cost(X, y, theta)\n",
        "    cost_list = [cost]\n",
        "    for i in range(max_iter):\n",
        "        # update values of weights based on gradient\n",
        "        theta -= # Your code hear\n",
        "        cost = linear_cost(X, y, theta)\n",
        "        cost_list.append(cost)\n",
        "        print(cost)\n",
        "        if visualize == True:\n",
        "            time.sleep(0.1)\n",
        "            clear_output(wait=True)\n",
        "            vizualize_linear_regression(X, y, theta)\n",
        "        \n",
        "        if np.abs(cost_list[-1] - cost_list[-2]) < epsilon:\n",
        "            break \n",
        "    print(\"theta\", theta)\n",
        "    print(\"cost\", cost)\n",
        "    return theta"
      ],
      "execution_count": 6,
      "outputs": [
        {
          "output_type": "error",
          "ename": "SyntaxError",
          "evalue": "ignored",
          "traceback": [
            "\u001b[0;36m  File \u001b[0;32m\"<ipython-input-6-69bb868aba09>\"\u001b[0;36m, line \u001b[0;32m4\u001b[0m\n\u001b[0;31m    theta = # Your code hear\u001b[0m\n\u001b[0m                            ^\u001b[0m\n\u001b[0;31mSyntaxError\u001b[0m\u001b[0;31m:\u001b[0m invalid syntax\n"
          ]
        }
      ]
    },
    {
      "cell_type": "markdown",
      "metadata": {
        "id": "89oC4ije4vC7",
        "colab_type": "text"
      },
      "source": [
        "(2 points) Try different parameters of lr and max_iter, what is optimal value? \n",
        "Experiment with different data generators.  \n",
        "Write short summary on experiments.  \n",
        "(In case of single dimensional data you can use vizualization.)"
      ]
    },
    {
      "cell_type": "code",
      "metadata": {
        "scrolled": false,
        "id": "2_fwF0lo4vC7",
        "colab_type": "code",
        "colab": {}
      },
      "source": [
        "X, y = data_generator_linear_regression()\n",
        "fit_linear(X, y, lr=1, visualize=True)"
      ],
      "execution_count": null,
      "outputs": []
    },
    {
      "cell_type": "markdown",
      "metadata": {
        "id": "rsHlTlft4vDA",
        "colab_type": "text"
      },
      "source": [
        "(4 points) Try to find coeficients just with linear algebra toolbox instead of optimization:"
      ]
    },
    {
      "cell_type": "code",
      "metadata": {
        "id": "WzkV3VTb4vDB",
        "colab_type": "code",
        "colab": {}
      },
      "source": [
        "def least_squere(X, y):\n",
        "    # Your code hear"
      ],
      "execution_count": null,
      "outputs": []
    },
    {
      "cell_type": "markdown",
      "metadata": {
        "id": "SBfL2u4Q4vDG",
        "colab_type": "text"
      },
      "source": [
        "(2 points) Compare precision of results and time of execution of least squered and optimization solutions  \n",
        "Tip: Try to use *%timeit* from ipython magic"
      ]
    },
    {
      "cell_type": "code",
      "metadata": {
        "id": "hTKZg27t4vDH",
        "colab_type": "code",
        "colab": {}
      },
      "source": [
        ""
      ],
      "execution_count": null,
      "outputs": []
    },
    {
      "cell_type": "markdown",
      "metadata": {
        "id": "-hwz4qYQ4vDN",
        "colab_type": "text"
      },
      "source": [
        "# Logistic regression "
      ]
    },
    {
      "cell_type": "markdown",
      "metadata": {
        "id": "1FZAho1O4vDO",
        "colab_type": "text"
      },
      "source": [
        "(1 point) Implement sigmoid function:\n",
        "$$ \\sigma (z) =  \\frac{\\mathrm{1} }{\\mathrm{1} + e^{-z}}  $$ \n"
      ]
    },
    {
      "cell_type": "code",
      "metadata": {
        "id": "8-Q12EE54vDP",
        "colab_type": "code",
        "colab": {}
      },
      "source": [
        "def sigmoid(z):\n",
        "    return 1/(1+ np.exp(-z))"
      ],
      "execution_count": 51,
      "outputs": []
    },
    {
      "cell_type": "markdown",
      "metadata": {
        "id": "ZrIcqL124vDU",
        "colab_type": "text"
      },
      "source": [
        "Vizualize sigmoid to check your code:"
      ]
    },
    {
      "cell_type": "code",
      "metadata": {
        "id": "CcR7eqLz4vDU",
        "colab_type": "code",
        "colab": {}
      },
      "source": [
        "def vizualize_sigmoid(range_min=-10, range_max=10):\n",
        "    x_axis = np.linspace(range_min,range_max,100)   \n",
        "    y_axis = sigmoid(x_axis)\n",
        "    plt.plot(x_axis,y_axis)\n",
        "    plt.show()\n",
        "\n",
        "vizualize_sigmoid()"
      ],
      "execution_count": null,
      "outputs": []
    },
    {
      "cell_type": "markdown",
      "metadata": {
        "id": "HUYGmGKs4vDa",
        "colab_type": "text"
      },
      "source": [
        "(1 point) Implement predictor for logistic regression:\n",
        "$$ h_\\theta (X) = \\sigma (\\theta^TX) $$"
      ]
    },
    {
      "cell_type": "code",
      "metadata": {
        "id": "BzR7SsN34vDa",
        "colab_type": "code",
        "colab": {}
      },
      "source": [
        "def logistic_predict(X, theta):\n",
        "    return sigmoid(linear_predict(X,theta))"
      ],
      "execution_count": 55,
      "outputs": []
    },
    {
      "cell_type": "markdown",
      "metadata": {
        "id": "1Xx97UOy4vDe",
        "colab_type": "text"
      },
      "source": [
        "(2 points) Implement cross entropy cost function:\n",
        "$$ J(\\theta) = -\\dfrac{1}{n}\\sum_{i=1}^{n}(y^{(i)}*log(h_\\theta (X^{(i)}))+(1−y^{(i)})*log(1−h_\\theta (X^{(i)}))) $$"
      ]
    },
    {
      "cell_type": "code",
      "metadata": {
        "id": "L4ZgGGyd4vDh",
        "colab_type": "code",
        "colab": {}
      },
      "source": [
        "def logistic_cost(X, y, theta):\n",
        "    # your code hear"
      ],
      "execution_count": null,
      "outputs": []
    },
    {
      "cell_type": "markdown",
      "metadata": {
        "id": "HeIf2Ab04vDl",
        "colab_type": "text"
      },
      "source": [
        "(4 points) Calculate derivative from cross entropy and implement gradient step"
      ]
    },
    {
      "cell_type": "code",
      "metadata": {
        "id": "INRz0us34vDn",
        "colab_type": "code",
        "colab": {}
      },
      "source": [
        "def logistic_gradient(X, y, theta):\n",
        "    # your code hear"
      ],
      "execution_count": null,
      "outputs": []
    },
    {
      "cell_type": "markdown",
      "metadata": {
        "id": "MKrrNyYX4vDq",
        "colab_type": "text"
      },
      "source": [
        "(2 points) Similarly to previous example implement training procedure"
      ]
    },
    {
      "cell_type": "code",
      "metadata": {
        "id": "B4E4sdKV4vDr",
        "colab_type": "code",
        "colab": {}
      },
      "source": [
        "def fit_logistic(X, y, lr=2, max_iter=10, epsilon=0.0001, visualize=False):\n",
        "    # your code hear"
      ],
      "execution_count": null,
      "outputs": []
    },
    {
      "cell_type": "markdown",
      "metadata": {
        "id": "qo8eKWNm4vDv",
        "colab_type": "text"
      },
      "source": [
        "(2 points) Play with different parameters of lr and max_iter, try different datasets.  \n",
        "Does algorithm always find optimal line for separation?   \n",
        "What is a problem? How should optimal line look like to your mind?"
      ]
    },
    {
      "cell_type": "code",
      "metadata": {
        "scrolled": true,
        "id": "h74zSYot4vDw",
        "colab_type": "code",
        "colab": {}
      },
      "source": [
        "X, y = data_generator_logistic_regression()"
      ],
      "execution_count": null,
      "outputs": []
    },
    {
      "cell_type": "code",
      "metadata": {
        "id": "JL97hE6_4vD0",
        "colab_type": "code",
        "colab": {}
      },
      "source": [
        "fit_logistic(X,y, lr=1, visualize=True)"
      ],
      "execution_count": null,
      "outputs": []
    },
    {
      "cell_type": "code",
      "metadata": {
        "id": "pCzsJuCQ4vD4",
        "colab_type": "code",
        "colab": {}
      },
      "source": [
        "import unittest\n",
        "\n",
        "class LinearRegresionTests(unittest.TestCase):\n",
        "\n",
        "    X = np.array([\n",
        "        [1, -0.5, 3, 1],\n",
        "        [1, 8, -0.33, 5],\n",
        "        [1, 0, 0, 0]\n",
        "    ])\n",
        "    y = np.array([40, 100, 12])\n",
        "    y_bin = np.array([0, 1, 0])\n",
        "    theta = np.array([2, 5, 7, 9])\n",
        "    eps = 0.001\n",
        "\n",
        "    def assertFloatEquals(self, a, b):\n",
        "        self.assertTrue(np.abs(a - b) < self.eps)\n",
        "    \n",
        "    def assertArrayEquals(self, a, b):\n",
        "        a = np.array(a)\n",
        "        b = np.array(b)\n",
        "        self.assertEqual(a.shape, b.shape)\n",
        "        self.assertTrue(np.all(np.abs(a - b) < self.eps))\n",
        "    \n",
        "    def test_linear_predict_for_single_example(self):\n",
        "        expected = 29.5\n",
        "        actual = linear_predict(self.X[0], self.theta)\n",
        "        print(\"single\", actual)\n",
        "        self.assertFloatEquals(actual, expected)\n",
        "    \n",
        "    def test_linear_predict_for_multiple_examples(self):\n",
        "        expected = [29.5, 84.69, 2.]\n",
        "        actual = linear_predict(self.X, self.theta)\n",
        "        print(\"multiple\", actual)\n",
        "        self.assertArrayEquals(actual, expected)\n",
        "        \n",
        "    def test_linear_cost(self):\n",
        "        expected = 74.107\n",
        "        actual = linear_cost(self.X, self.y, self.theta)\n",
        "        self.assertFloatEquals(actual, expected)\n",
        "        \n",
        "    def test_linear_gradient(self):\n",
        "        expected = [-11.936, -39.076, -8.815, -29.016]\n",
        "        actual = linear_gradient(self.X, self.y, self.theta)\n",
        "        self.assertArrayEquals(actual, expected)\n",
        "    \n",
        "    def test_sigmoid(self):\n",
        "        expected = [1., 1., 0.999]\n",
        "        actual = sigmoid(self.y)\n",
        "        self.assertArrayEquals(actual, expected)\n",
        "    \n",
        "    def test_logistic_predict_for_single_example(self):\n",
        "        expected = 0.88\n",
        "        actual = logistic_predict(self.X[2], self.theta)\n",
        "        self.assertFloatEquals(actual, expected)\n",
        "    \n",
        "    def test_logistic_predict_for_multiple_examples(self):\n",
        "        expected = [1, 1, 0.88]\n",
        "        actual = logistic_predict(self.X, self.theta)\n",
        "        self.assertArrayEquals(actual, expected)\n",
        "        \n",
        "    def test_logistic_cost(self):\n",
        "        expected = 4.546\n",
        "        actual = logistic_cost(self.X, self.y_bin, self.theta)\n",
        "        self.assertFloatEquals(actual, expected)\n",
        "        \n",
        "    def test_logistic_gradient(self):\n",
        "        expected = [0.626, -0.166,  1, 0.333]\n",
        "        actual = logistic_gradient(self.X, self.y_bin, self.theta)\n",
        "        self.assertArrayEquals(actual, expected)"
      ],
      "execution_count": 7,
      "outputs": []
    },
    {
      "cell_type": "code",
      "metadata": {
        "pycharm": {
          "is_executing": true
        },
        "id": "E1QfcIc04vD-",
        "colab_type": "code",
        "colab": {
          "base_uri": "https://localhost:8080/",
          "height": 607
        },
        "outputId": "5a6ee416-7708-4050-f1ef-b0c6e7ecc157"
      },
      "source": [
        "unittest.main(argv=[''], verbosity=2, exit=False)"
      ],
      "execution_count": 56,
      "outputs": [
        {
          "output_type": "stream",
          "text": [
            "test_linear_cost (__main__.LinearRegresionTests) ... ok\n",
            "test_linear_gradient (__main__.LinearRegresionTests) ... ok\n",
            "test_linear_predict_for_multiple_examples (__main__.LinearRegresionTests) ... ok\n",
            "test_linear_predict_for_single_example (__main__.LinearRegresionTests) ... ok\n",
            "test_logistic_cost (__main__.LinearRegresionTests) ... ERROR\n",
            "test_logistic_gradient (__main__.LinearRegresionTests) ... ERROR\n",
            "test_logistic_predict_for_multiple_examples (__main__.LinearRegresionTests) ... ok\n",
            "test_logistic_predict_for_single_example (__main__.LinearRegresionTests) ... ok\n",
            "test_sigmoid (__main__.LinearRegresionTests) ... "
          ],
          "name": "stderr"
        },
        {
          "output_type": "stream",
          "text": [
            "sum 444.64610000000005\n",
            "multiple [29.5  84.69  2.  ]\n",
            "single 29.5\n"
          ],
          "name": "stdout"
        },
        {
          "output_type": "stream",
          "text": [
            "ok\n",
            "\n",
            "======================================================================\n",
            "ERROR: test_logistic_cost (__main__.LinearRegresionTests)\n",
            "----------------------------------------------------------------------\n",
            "Traceback (most recent call last):\n",
            "  File \"<ipython-input-7-596a9d9298bd>\", line 63, in test_logistic_cost\n",
            "    actual = logistic_cost(self.X, self.y_bin, self.theta)\n",
            "NameError: name 'logistic_cost' is not defined\n",
            "\n",
            "======================================================================\n",
            "ERROR: test_logistic_gradient (__main__.LinearRegresionTests)\n",
            "----------------------------------------------------------------------\n",
            "Traceback (most recent call last):\n",
            "  File \"<ipython-input-7-596a9d9298bd>\", line 68, in test_logistic_gradient\n",
            "    actual = logistic_gradient(self.X, self.y_bin, self.theta)\n",
            "NameError: name 'logistic_gradient' is not defined\n",
            "\n",
            "----------------------------------------------------------------------\n",
            "Ran 9 tests in 0.022s\n",
            "\n",
            "FAILED (errors=2)\n"
          ],
          "name": "stderr"
        },
        {
          "output_type": "execute_result",
          "data": {
            "text/plain": [
              "<unittest.main.TestProgram at 0x7f2d7a15e2e8>"
            ]
          },
          "metadata": {
            "tags": []
          },
          "execution_count": 56
        }
      ]
    }
  ]
}