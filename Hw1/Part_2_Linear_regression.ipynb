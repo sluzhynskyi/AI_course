{
 "cells": [
  {
   "cell_type": "code",
   "execution_count": null,
   "metadata": {},
   "outputs": [],
   "source": [
    "%matplotlib inline\n",
    "from IPython.display import clear_output\n",
    "import matplotlib.pyplot as plt\n",
    "import numpy as np\n",
    "import time\n",
    "from sklearn.datasets import make_blobs, make_moons"
   ]
  },
  {
   "cell_type": "code",
   "execution_count": null,
   "metadata": {},
   "outputs": [],
   "source": [
    "def add_intercept(X):\n",
    "    # to simplify calculations we add ones column to data for multiplication with intercept\n",
    "    intercept = np.ones((X.shape[0], 1))\n",
    "    return np.concatenate((intercept, X), axis=1)\n",
    "\n",
    "def vizualize_linear_regression(X, y, theta):\n",
    "    plt.scatter(X[:, 1], y, alpha=0.5)\n",
    "    x_axis = np.arange(np.min(X[:, 1]), np.max(X[:, 1]), 0.01).reshape(-1, 1)\n",
    "    y_axis = linear_predict(add_intercept(x_axis), theta)\n",
    "    plt.plot(x_axis, y_axis, lw=2, c=\"r\")\n",
    "    plt.show()\n",
    "\n",
    "def vizualize_logistic_regression(X, y, theta, treshold=0.5):\n",
    "    plt.scatter(X[:, 1], X[:, 2], c=y, alpha=0.5)\n",
    "    eps = 0.00000001\n",
    "    x_axis = np.arange(np.min(X[:, 1]), np.max(X[:, 1]), 0.01).reshape(-1, 1)\n",
    "    y_axis =  - (np.log((1-treshold)/treshold) + add_intercept(x_axis).dot(theta[:2])) / (theta[2] + eps)\n",
    "    plt.plot(x_axis, y_axis, lw=2, c=\"r\")\n",
    "    plt.show()\n",
    "    \n",
    "def data_generator_linear_regression(n=100, intercept=0, coef=np.array([1]), var=0.1):\n",
    "    X = np.random.rand(n, coef.shape[0]) \n",
    "    theta = np.insert(coef, 0, intercept)\n",
    "    y = add_intercept(X).dot(theta) + np.random.normal(0, var, (n))\n",
    "    return X, y\n",
    "\n",
    "def data_generator_logistic_regression(n=100, data=\"blobs\"):\n",
    "    if data == \"blobs\":\n",
    "        X, y = make_blobs(n, centers=2)\n",
    "    elif data == \"moons\":\n",
    "        X, y = make_moons(n)\n",
    "    return X, y"
   ]
  },
  {
   "cell_type": "markdown",
   "metadata": {},
   "source": [
    "# Linear regression"
   ]
  },
  {
   "cell_type": "markdown",
   "metadata": {},
   "source": [
    "(2 points) Implement predictor for linear regression:\n",
    "$$ h_\\theta (X) = \\theta^TX $$"
   ]
  },
  {
   "cell_type": "code",
   "execution_count": 1,
   "metadata": {},
   "outputs": [],
   "source": [
    "def linear_predict(X, theta):\n",
    "    return theta[0] + theta[1] * X"
   ]
  },
  {
   "cell_type": "markdown",
   "metadata": {},
   "source": [
    "(3 points) Implement linear cost function:\n",
    "$$ J(\\theta) = \\dfrac{1}{2n}\\sum_{i=1}^{n}(h_\\theta (X^{(i)})-y^{(i)})^2 $$"
   ]
  },
  {
   "cell_type": "code",
   "execution_count": null,
   "metadata": {},
   "outputs": [],
   "source": [
    "def linear_cost(X, y, theta):\n",
    "    n = len(y)\n",
    "    return (1/2*n) * np.sum((linear_predict(theta, X) - y)**2)"
   ]
  },
  {
   "cell_type": "markdown",
   "metadata": {},
   "source": [
    "(3 points) Implement gradient function for linear regression:\n",
    "$$\\frac{\\partial}{\\partial \\theta_j} J(\\theta) = \\dfrac{1}{n}\\sum_{i=1}^{n}\\left( h_\\theta(x^{(i)}) - y^{(i)} \\right) x^{(i)} $$"
   ]
  },
  {
   "cell_type": "code",
   "execution_count": null,
   "metadata": {},
   "outputs": [],
   "source": [
    "def linear_gradient(X, y, theta):\n",
    "    pass"
   ]
  },
  {
   "cell_type": "markdown",
   "metadata": {},
   "source": [
    "(2 points) Implement weights initialization and weights update:\n",
    "$$ \\theta = \\theta - \\alpha \\nabla_\\theta J(\\theta) $$"
   ]
  },
  {
   "cell_type": "code",
   "execution_count": null,
   "metadata": {},
   "outputs": [],
   "source": [
    "def fit_linear(X, y, lr=2, max_iter=10, epsilon=0.01, visualize=False):\n",
    "    X = add_intercept(X)\n",
    "    # randomly initialize weights vector with ones coresponding to X shape\n",
    "    theta = # Your code hear\n",
    "    cost = linear_cost(X, y, theta)\n",
    "    cost_list = [cost]\n",
    "    for i in range(max_iter):\n",
    "        # update values of weights based on gradient\n",
    "        theta -= # Your code hear\n",
    "        cost = linear_cost(X, y, theta)\n",
    "        cost_list.append(cost)\n",
    "        print(cost)\n",
    "        if visualize == True:\n",
    "            time.sleep(0.1)\n",
    "            clear_output(wait=True)\n",
    "            vizualize_linear_regression(X, y, theta)\n",
    "        \n",
    "        if np.abs(cost_list[-1] - cost_list[-2]) < epsilon:\n",
    "            break \n",
    "    print(\"theta\", theta)\n",
    "    print(\"cost\", cost)\n",
    "    return theta"
   ]
  },
  {
   "cell_type": "markdown",
   "metadata": {},
   "source": [
    "(2 points) Try different parameters of lr and max_iter, what is optimal value? \n",
    "Experiment with different data generators.  \n",
    "Write short summary on experiments.  \n",
    "(In case of single dimensional data you can use vizualization.)"
   ]
  },
  {
   "cell_type": "code",
   "execution_count": null,
   "metadata": {
    "scrolled": false
   },
   "outputs": [],
   "source": [
    "X, y = data_generator_linear_regression()\n",
    "fit_linear(X, y, lr=1, visualize=True)"
   ]
  },
  {
   "cell_type": "markdown",
   "metadata": {},
   "source": [
    "(4 points) Try to find coeficients just with linear algebra toolbox instead of optimization:"
   ]
  },
  {
   "cell_type": "code",
   "execution_count": null,
   "metadata": {},
   "outputs": [],
   "source": [
    "def least_squere(X, y):\n",
    "    # Your code hear"
   ]
  },
  {
   "cell_type": "markdown",
   "metadata": {},
   "source": [
    "(2 points) Compare precision of results and time of execution of least squered and optimization solutions  \n",
    "Tip: Try to use *%timeit* from ipython magic"
   ]
  },
  {
   "cell_type": "code",
   "execution_count": null,
   "metadata": {},
   "outputs": [],
   "source": []
  },
  {
   "cell_type": "markdown",
   "metadata": {},
   "source": [
    "# Logistic regression "
   ]
  },
  {
   "cell_type": "markdown",
   "metadata": {},
   "source": [
    "(1 point) Implement sigmoid function:\n",
    "$$ \\sigma (z) =  \\frac{\\mathrm{1} }{\\mathrm{1} + e^{-z}}  $$ \n"
   ]
  },
  {
   "cell_type": "code",
   "execution_count": null,
   "metadata": {},
   "outputs": [],
   "source": [
    "def sigmoid(z):\n",
    "    # your code hear"
   ]
  },
  {
   "cell_type": "markdown",
   "metadata": {},
   "source": [
    "Vizualize sigmoid to check your code:"
   ]
  },
  {
   "cell_type": "code",
   "execution_count": null,
   "metadata": {},
   "outputs": [],
   "source": [
    "def vizualize_sigmoid(range_min=-10, range_max=10):\n",
    "    x_axis = np.linspace(range_min,range_max,100)   \n",
    "    y_axis = sigmoid(x_axis)\n",
    "    plt.plot(x_axis,y_axis)\n",
    "    plt.show()\n",
    "\n",
    "vizualize_sigmoid()"
   ]
  },
  {
   "cell_type": "markdown",
   "metadata": {},
   "source": [
    "(1 point) Implement predictor for logistic regression:\n",
    "$$ h_\\theta (X) = \\sigma (\\theta^TX) $$"
   ]
  },
  {
   "cell_type": "code",
   "execution_count": null,
   "metadata": {},
   "outputs": [],
   "source": [
    "def logistic_predict(X, theta):\n",
    "    # your code hear"
   ]
  },
  {
   "cell_type": "markdown",
   "metadata": {},
   "source": [
    "(2 points) Implement cross entropy cost function:\n",
    "$$ J(\\theta) = -\\dfrac{1}{n}\\sum_{i=1}^{n}(y^{(i)}*log(h_\\theta (X^{(i)}))+(1−y^{(i)})*log(1−h_\\theta (X^{(i)}))) $$"
   ]
  },
  {
   "cell_type": "code",
   "execution_count": null,
   "metadata": {},
   "outputs": [],
   "source": [
    "def logistic_cost(X, y, theta):\n",
    "    # your code hear"
   ]
  },
  {
   "cell_type": "markdown",
   "metadata": {},
   "source": [
    "(4 points) Calculate derivative from cross entropy and implement gradient step"
   ]
  },
  {
   "cell_type": "code",
   "execution_count": null,
   "metadata": {},
   "outputs": [],
   "source": [
    "def logistic_gradient(X, y, theta):\n",
    "    # your code hear"
   ]
  },
  {
   "cell_type": "markdown",
   "metadata": {},
   "source": [
    "(2 points) Similarly to previous example implement training procedure"
   ]
  },
  {
   "cell_type": "code",
   "execution_count": null,
   "metadata": {},
   "outputs": [],
   "source": [
    "def fit_logistic(X, y, lr=2, max_iter=10, epsilon=0.0001, visualize=False):\n",
    "    # your code hear"
   ]
  },
  {
   "cell_type": "markdown",
   "metadata": {},
   "source": [
    "(2 points) Play with different parameters of lr and max_iter, try different datasets.  \n",
    "Does algorithm always find optimal line for separation?   \n",
    "What is a problem? How should optimal line look like to your mind?"
   ]
  },
  {
   "cell_type": "code",
   "execution_count": null,
   "metadata": {
    "scrolled": true
   },
   "outputs": [],
   "source": [
    "X, y = data_generator_logistic_regression()"
   ]
  },
  {
   "cell_type": "code",
   "execution_count": null,
   "metadata": {},
   "outputs": [],
   "source": [
    "fit_logistic(X,y, lr=1, visualize=True)"
   ]
  },
  {
   "cell_type": "code",
   "execution_count": 3,
   "metadata": {},
   "outputs": [
    {
     "ename": "NameError",
     "evalue": "name 'np' is not defined",
     "output_type": "error",
     "traceback": [
      "\u001B[0;31m---------------------------------------------------------------------------\u001B[0m",
      "\u001B[0;31mNameError\u001B[0m                                 Traceback (most recent call last)",
      "\u001B[0;32m<ipython-input-3-1edfbe6eefa8>\u001B[0m in \u001B[0;36m<module>\u001B[0;34m\u001B[0m\n\u001B[1;32m      1\u001B[0m \u001B[0;32mimport\u001B[0m \u001B[0munittest\u001B[0m\u001B[0;34m\u001B[0m\u001B[0;34m\u001B[0m\u001B[0m\n\u001B[1;32m      2\u001B[0m \u001B[0;34m\u001B[0m\u001B[0m\n\u001B[0;32m----> 3\u001B[0;31m \u001B[0;32mclass\u001B[0m \u001B[0mLinearRegresionTests\u001B[0m\u001B[0;34m(\u001B[0m\u001B[0munittest\u001B[0m\u001B[0;34m.\u001B[0m\u001B[0mTestCase\u001B[0m\u001B[0;34m)\u001B[0m\u001B[0;34m:\u001B[0m\u001B[0;34m\u001B[0m\u001B[0;34m\u001B[0m\u001B[0m\n\u001B[0m\u001B[1;32m      4\u001B[0m \u001B[0;34m\u001B[0m\u001B[0m\n\u001B[1;32m      5\u001B[0m     X = np.array([\n",
      "\u001B[0;32m<ipython-input-3-1edfbe6eefa8>\u001B[0m in \u001B[0;36mLinearRegresionTests\u001B[0;34m()\u001B[0m\n\u001B[1;32m      3\u001B[0m \u001B[0;32mclass\u001B[0m \u001B[0mLinearRegresionTests\u001B[0m\u001B[0;34m(\u001B[0m\u001B[0munittest\u001B[0m\u001B[0;34m.\u001B[0m\u001B[0mTestCase\u001B[0m\u001B[0;34m)\u001B[0m\u001B[0;34m:\u001B[0m\u001B[0;34m\u001B[0m\u001B[0;34m\u001B[0m\u001B[0m\n\u001B[1;32m      4\u001B[0m \u001B[0;34m\u001B[0m\u001B[0m\n\u001B[0;32m----> 5\u001B[0;31m     X = np.array([\n\u001B[0m\u001B[1;32m      6\u001B[0m         \u001B[0;34m[\u001B[0m\u001B[0;36m1\u001B[0m\u001B[0;34m,\u001B[0m \u001B[0;34m-\u001B[0m\u001B[0;36m0.5\u001B[0m\u001B[0;34m,\u001B[0m \u001B[0;36m3\u001B[0m\u001B[0;34m,\u001B[0m \u001B[0;36m1\u001B[0m\u001B[0;34m]\u001B[0m\u001B[0;34m,\u001B[0m\u001B[0;34m\u001B[0m\u001B[0;34m\u001B[0m\u001B[0m\n\u001B[1;32m      7\u001B[0m         \u001B[0;34m[\u001B[0m\u001B[0;36m1\u001B[0m\u001B[0;34m,\u001B[0m \u001B[0;36m8\u001B[0m\u001B[0;34m,\u001B[0m \u001B[0;34m-\u001B[0m\u001B[0;36m0.33\u001B[0m\u001B[0;34m,\u001B[0m \u001B[0;36m5\u001B[0m\u001B[0;34m]\u001B[0m\u001B[0;34m,\u001B[0m\u001B[0;34m\u001B[0m\u001B[0;34m\u001B[0m\u001B[0m\n",
      "\u001B[0;31mNameError\u001B[0m: name 'np' is not defined"
     ]
    }
   ],
   "source": [
    "import unittest\n",
    "\n",
    "class LinearRegresionTests(unittest.TestCase):\n",
    "\n",
    "    X = np.array([\n",
    "        [1, -0.5, 3, 1],\n",
    "        [1, 8, -0.33, 5],\n",
    "        [1, 0, 0, 0]\n",
    "    ])\n",
    "    y = np.array([40, 100, 12])\n",
    "    y_bin = np.array([0, 1, 0])\n",
    "    theta = np.array([2, 5, 7, 9])\n",
    "    eps = 0.001\n",
    "\n",
    "    def assertFloatEquals(self, a, b):\n",
    "        self.assertTrue(np.abs(a - b) < self.eps)\n",
    "    \n",
    "    def assertArrayEquals(self, a, b):\n",
    "        a = np.array(a)\n",
    "        b = np.array(b)\n",
    "        self.assertEqual(a.shape, b.shape)\n",
    "        self.assertTrue(np.all(np.abs(a - b) < self.eps))\n",
    "    \n",
    "    def test_linear_predict_for_single_example(self):\n",
    "        expected = 29.5\n",
    "        actual = linear_predict(self.X[0], self.theta)\n",
    "        self.assertFloatEquals(actual, expected)\n",
    "    \n",
    "    def test_linear_predict_for_multiple_examples(self):\n",
    "        expected = [29.5, 84.69, 2.]\n",
    "        actual = linear_predict(self.X, self.theta)\n",
    "        self.assertArrayEquals(actual, expected)\n",
    "        \n",
    "    def test_linear_cost(self):\n",
    "        expected = 74.107\n",
    "        actual = linear_cost(self.X, self.y, self.theta)\n",
    "        self.assertFloatEquals(actual, expected)\n",
    "        \n",
    "    def test_linear_gradient(self):\n",
    "        expected = [-11.936, -39.076, -8.815, -29.016]\n",
    "        actual = linear_gradient(self.X, self.y, self.theta)\n",
    "        self.assertArrayEquals(actual, expected)\n",
    "    \n",
    "    def test_sigmoid(self):\n",
    "        expected = [1., 1., 0.999]\n",
    "        actual = sigmoid(self.y)\n",
    "        self.assertArrayEquals(actual, expected)\n",
    "    \n",
    "    def test_logistic_predict_for_single_example(self):\n",
    "        expected = 0.88\n",
    "        actual = logistic_predict(self.X[2], self.theta)\n",
    "        self.assertFloatEquals(actual, expected)\n",
    "    \n",
    "    def test_logistic_predict_for_multiple_examples(self):\n",
    "        expected = [1, 1, 0.88]\n",
    "        actual = logistic_predict(self.X, self.theta)\n",
    "        self.assertArrayEquals(actual, expected)\n",
    "        \n",
    "    def test_logistic_cost(self):\n",
    "        expected = 4.546\n",
    "        actual = logistic_cost(self.X, self.y_bin, self.theta)\n",
    "        self.assertFloatEquals(actual, expected)\n",
    "        \n",
    "    def test_logistic_gradient(self):\n",
    "        expected = [0.626, -0.166,  1, 0.333]\n",
    "        actual = logistic_gradient(self.X, self.y_bin, self.theta)\n",
    "        self.assertArrayEquals(actual, expected)"
   ]
  },
  {
   "cell_type": "code",
   "execution_count": null,
   "metadata": {
    "pycharm": {
     "is_executing": true
    }
   },
   "outputs": [],
   "source": [
    "unittest.main(argv=[''], verbosity=2, exit=False)"
   ]
  }
 ],
 "metadata": {
  "kernelspec": {
   "name": "pycharm-2e77321",
   "language": "python",
   "display_name": "PyCharm (Hw1)"
  },
  "language_info": {
   "codemirror_mode": {
    "name": "ipython",
    "version": 3
   },
   "file_extension": ".py",
   "mimetype": "text/x-python",
   "name": "python",
   "nbconvert_exporter": "python",
   "pygments_lexer": "ipython3",
   "version": "3.7.3"
  }
 },
 "nbformat": 4,
 "nbformat_minor": 4
}