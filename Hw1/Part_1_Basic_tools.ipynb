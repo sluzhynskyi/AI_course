{
 "nbformat": 4,
 "nbformat_minor": 0,
 "metadata": {
  "kernelspec": {
   "display_name": "Python 3",
   "language": "python",
   "name": "python3"
  },
  "language_info": {
   "codemirror_mode": {
    "name": "ipython",
    "version": 3
   },
   "file_extension": ".py",
   "mimetype": "text/x-python",
   "name": "python",
   "nbconvert_exporter": "python",
   "pygments_lexer": "ipython3",
   "version": "3.7.3"
  },
  "colab": {
   "name": "Part 1. Basic tools.ipynb",
   "provenance": [],
   "collapsed_sections": []
  }
 },
 "cells": [
  {
   "cell_type": "markdown",
   "metadata": {
    "id": "aFSOHR7hXwaM",
    "colab_type": "text"
   },
   "source": [
    "# Numpy"
   ]
  },
  {
   "cell_type": "code",
   "metadata": {
    "id": "huqegZ6sXwaO",
    "colab_type": "code",
    "colab": {
     "base_uri": "https://localhost:8080/",
     "height": 52
    },
    "outputId": "2bee6b19-f93d-4b66-805a-fdcc422527c5"
   },
   "source": [
    "import numpy as np\n",
    "import seaborn as sns # Only for correlation visualization (heatmap)"
   ],
   "execution_count": 89,
   "outputs": [
    {
     "output_type": "stream",
     "text": [
      "/usr/local/lib/python3.6/dist-packages/statsmodels/tools/_testing.py:19: FutureWarning: pandas.util.testing is deprecated. Use the functions in the public API at pandas.testing instead.\n",
      "  import pandas.util.testing as tm\n"
     ],
     "name": "stderr"
    }
   ]
  },
  {
   "cell_type": "markdown",
   "metadata": {
    "id": "YMpwrKt8XwaZ",
    "colab_type": "text"
   },
   "source": [
    "### 1. Linear equation \n",
    "Find x for Ax = b"
   ]
  },
  {
   "cell_type": "code",
   "metadata": {
    "id": "zGq6RusoXwae",
    "colab_type": "code",
    "colab": {}
   },
   "source": [
    "A = np.array(\n",
    "    [\n",
    "         [ 1,  2,  3,  4],\n",
    "         [ 3, -3,  8,  9],\n",
    "         [ 5,  1, -4,  7],\n",
    "         [-2,  5, -5,  1],\n",
    "    ]\n",
    ")\n",
    "b = np.array([-5, 0, 10, -17])"
   ],
   "execution_count": 43,
   "outputs": []
  },
  {
   "cell_type": "code",
   "metadata": {
    "id": "x7zXLGshXwal",
    "colab_type": "code",
    "colab": {
     "base_uri": "https://localhost:8080/",
     "height": 52
    },
    "outputId": "96951cea-58a3-42c3-9701-ef93e3de8fed"
   },
   "source": [
    "a_inv = np.linalg.inv(A) # Ax=b -> x= b*A^-1\n",
    "x1 = np.dot(a_inv,b) # first way of solution\n",
    "np.set_printoptions(suppress=True)\n",
    "print(x1)\n",
    "x2 = np.linalg.solve(A,b) # second way\n",
    "print(x2)"
   ],
   "execution_count": 44,
   "outputs": [
    {
     "output_type": "stream",
     "text": [
      "[ 5. -1.  0. -2.]\n",
      "[ 5. -1.  0. -2.]\n"
     ],
     "name": "stdout"
    }
   ]
  },
  {
   "cell_type": "markdown",
   "metadata": {
    "id": "xDf14ivsXwas",
    "colab_type": "text"
   },
   "source": [
    "[link text](https://)**Tip:** have a look to np.set_printoptions"
   ]
  },
  {
   "cell_type": "markdown",
   "metadata": {
    "id": "kIZIoGSHXwat",
    "colab_type": "text"
   },
   "source": [
    "### 2. Cliping\n",
    "Set all negatives values of array to zero"
   ]
  },
  {
   "cell_type": "code",
   "metadata": {
    "id": "sm5e7HpLXwau",
    "colab_type": "code",
    "colab": {}
   },
   "source": [
    "A = np.array(\n",
    "    [\n",
    "         [ 1,  2,  3,  4],\n",
    "         [ 3, -3,  8,  9],\n",
    "         [ 5,  1, -4,  7],\n",
    "         [-2,  5, -5,  1],\n",
    "    ]\n",
    ")"
   ],
   "execution_count": null,
   "outputs": []
  },
  {
   "cell_type": "code",
   "metadata": {
    "id": "TQTcwv9kXwa1",
    "colab_type": "code",
    "colab": {
     "base_uri": "https://localhost:8080/",
     "height": 86
    },
    "outputId": "8086d860-93f6-476b-fb27-5f02096de314"
   },
   "source": [
    "A = A.clip(min=0) # first way\n",
    "A[A < 0] = 0 # second way\n",
    "\n",
    "print(A)"
   ],
   "execution_count": 13,
   "outputs": [
    {
     "output_type": "stream",
     "text": [
      "[[1 2 3 4]\n",
      " [3 0 8 9]\n",
      " [5 1 0 7]\n",
      " [0 5 0 1]]\n"
     ],
     "name": "stdout"
    }
   ]
  },
  {
   "cell_type": "markdown",
   "metadata": {
    "id": "KMUB6ctuXwa7",
    "colab_type": "text"
   },
   "source": [
    "### 3. Normalization\n",
    "Normalize vector x (rescale values between 0, 1)"
   ]
  },
  {
   "cell_type": "code",
   "metadata": {
    "id": "yGV4kIl9Xwa9",
    "colab_type": "code",
    "colab": {}
   },
   "source": [
    "x = np.array([-4, 2, -1, 5, -10])"
   ],
   "execution_count": 27,
   "outputs": []
  },
  {
   "cell_type": "code",
   "metadata": {
    "id": "2sBUhcoFXwbG",
    "colab_type": "code",
    "colab": {
     "base_uri": "https://localhost:8080/",
     "height": 34
    },
    "outputId": "1b8f0340-aed1-4e65-c4e5-ae5f8cb8d770"
   },
   "source": [
    "normalized = np.interp(x, (x.min(), x.max()), (0, +1))\n",
    "print(normalized)"
   ],
   "execution_count": 29,
   "outputs": [
    {
     "output_type": "stream",
     "text": [
      "[0.4 0.8 0.6 1.  0. ]\n"
     ],
     "name": "stdout"
    }
   ]
  },
  {
   "cell_type": "markdown",
   "metadata": {
    "id": "RS4K7CUrXwbK",
    "colab_type": "text"
   },
   "source": [
    "### 4. Standardize\n",
    "Standardize image with shape (height, width, channels). \\\n",
    "Each channel should have zero mean and unit variance."
   ]
  },
  {
   "cell_type": "code",
   "metadata": {
    "id": "fQ8oUeBcXwbL",
    "colab_type": "code",
    "colab": {}
   },
   "source": [
    "img = np.array([\n",
    "     [[105, 121,  90], [109, 125,  94], [107, 125,  89], [106, 124, 86]],\n",
    "     [[106, 123,  90], [107, 124,  91], [106, 125,  87], [108, 123, 81]],\n",
    "     [[106, 123,  90], [107, 124,  91], [107, 126,  88], [107, 123, 85]],\n",
    "     [[107, 125,  90], [106, 122,  89], [108, 126,  89], [103, 121, 83]]\n",
    "])"
   ],
   "execution_count": 45,
   "outputs": []
  },
  {
   "cell_type": "code",
   "metadata": {
    "id": "K2uxOeyeXwbP",
    "colab_type": "code",
    "colab": {
     "base_uri": "https://localhost:8080/",
     "height": 347
    },
    "outputId": "d0a89e07-6f17-4d52-a943-109dccf45444"
   },
   "source": [
    "r,g,b = img[:, :, 0], img[:, :, 1], img[:, :, 2]\n",
    "s_r,s_g,s_b = (r - np.mean(r))/np.std(r),(g - np.mean(g))/np.std(g), (b - np.mean(b))/np.std(b)\n",
    "s_img = np.dstack([s_r, s_g, s_b])\n",
    "print(s_img)"
   ],
   "execution_count": 50,
   "outputs": [
    {
     "output_type": "stream",
     "text": [
      "[[[-1.18245942 -1.80838886  0.53457486]\n",
      "  [ 1.8446367   0.82199494  1.80171529]\n",
      "  [ 0.33108864  0.82199494  0.21778976]\n",
      "  [-0.42568539  0.16439899 -0.73256556]]\n",
      "\n",
      " [[-0.42568539 -0.49319696  0.53457486]\n",
      "  [ 0.33108864  0.16439899  0.85135997]\n",
      "  [-0.42568539  0.82199494 -0.41578045]\n",
      "  [ 1.08786267 -0.49319696 -2.31649108]]\n",
      "\n",
      " [[-0.42568539 -0.49319696  0.53457486]\n",
      "  [ 0.33108864  0.16439899  0.85135997]\n",
      "  [ 0.33108864  1.47959089 -0.09899535]\n",
      "  [ 0.33108864 -0.49319696 -1.04935066]]\n",
      "\n",
      " [[ 0.33108864  0.82199494  0.53457486]\n",
      "  [-0.42568539 -1.15079291  0.21778976]\n",
      "  [ 1.08786267  1.47959089  0.21778976]\n",
      "  [-2.69600749 -1.80838886 -1.68292087]]]\n"
     ],
     "name": "stdout"
    }
   ]
  },
  {
   "cell_type": "markdown",
   "metadata": {
    "id": "7-r1kaozXwbV",
    "colab_type": "text"
   },
   "source": [
    "### 5. Euclidian distance\n",
    "Calculate distance matrix between two sets of pooints "
   ]
  },
  {
   "cell_type": "code",
   "metadata": {
    "id": "MvOjNHqtXwbW",
    "colab_type": "code",
    "colab": {}
   },
   "source": [
    "a = np.array([[1, 2], [3, 4], [5, 6]])\n",
    "b = np.array([[9, 8], [7, 6], [5, 4], [3, 2]])"
   ],
   "execution_count": 58,
   "outputs": []
  },
  {
   "cell_type": "code",
   "metadata": {
    "id": "ixijEhcQXwbZ",
    "colab_type": "code",
    "colab": {
     "base_uri": "https://localhost:8080/",
     "height": 237
    },
    "outputId": "0e3211d2-df75-41b7-b739-d63d934bb14f"
   },
   "source": [
    "np.linalg.norm(a[:, None, :] - b[None, :, :], axis=-1)"
   ],
   "execution_count": 67,
   "outputs": [
    {
     "output_type": "error",
     "ename": "ValueError",
     "evalue": "ignored",
     "traceback": [
      "\u001B[0;31m---------------------------------------------------------------------------\u001B[0m",
      "\u001B[0;31mValueError\u001B[0m                                Traceback (most recent call last)",
      "\u001B[0;32m<ipython-input-67-f46cb321c96f>\u001B[0m in \u001B[0;36m<module>\u001B[0;34m()\u001B[0m\n\u001B[1;32m      5\u001B[0m \u001B[0my_j\u001B[0m \u001B[0;34m=\u001B[0m \u001B[0mb\u001B[0m\u001B[0;34m[\u001B[0m\u001B[0mnp\u001B[0m\u001B[0;34m.\u001B[0m\u001B[0mnewaxis\u001B[0m\u001B[0;34m,\u001B[0m \u001B[0;34m:\u001B[0m\u001B[0;34m]\u001B[0m\u001B[0;34m\u001B[0m\u001B[0;34m\u001B[0m\u001B[0m\n\u001B[1;32m      6\u001B[0m \u001B[0;34m\u001B[0m\u001B[0m\n\u001B[0;32m----> 7\u001B[0;31m \u001B[0md\u001B[0m \u001B[0;34m=\u001B[0m \u001B[0;34m(\u001B[0m\u001B[0mx_i\u001B[0m\u001B[0;34m-\u001B[0m\u001B[0mx_j\u001B[0m\u001B[0;34m)\u001B[0m\u001B[0;34m**\u001B[0m\u001B[0;36m2\u001B[0m\u001B[0;34m+\u001B[0m\u001B[0;34m(\u001B[0m\u001B[0my_i\u001B[0m\u001B[0;34m-\u001B[0m\u001B[0my_j\u001B[0m\u001B[0;34m)\u001B[0m\u001B[0;34m**\u001B[0m\u001B[0;36m2\u001B[0m\u001B[0;34m\u001B[0m\u001B[0;34m\u001B[0m\u001B[0m\n\u001B[0m\u001B[1;32m      8\u001B[0m \u001B[0;34m\u001B[0m\u001B[0m\n\u001B[1;32m      9\u001B[0m \u001B[0mnp\u001B[0m\u001B[0;34m.\u001B[0m\u001B[0msqrt\u001B[0m\u001B[0;34m(\u001B[0m\u001B[0md\u001B[0m\u001B[0;34m,\u001B[0m \u001B[0mout\u001B[0m\u001B[0;34m=\u001B[0m\u001B[0md\u001B[0m\u001B[0;34m)\u001B[0m\u001B[0;34m\u001B[0m\u001B[0;34m\u001B[0m\u001B[0m\n",
      "\u001B[0;31mValueError\u001B[0m: operands could not be broadcast together with shapes (3,3,2) (4,4,2) "
     ]
    }
   ]
  },
  {
   "cell_type": "markdown",
   "metadata": {
    "id": "zjVlGurlXwbf",
    "colab_type": "text"
   },
   "source": [
    "\n",
    "# Pandas"
   ]
  },
  {
   "cell_type": "code",
   "metadata": {
    "id": "KwOPH0rBXwbg",
    "colab_type": "code",
    "colab": {
     "base_uri": "https://localhost:8080/",
     "height": 34
    },
    "outputId": "812e38b3-3dc3-47ce-b340-2f555507951c"
   },
   "source": [
    "import pandas as pd\n",
    "url = \"https://gist.githubusercontent.com/michhar/2dfd2de0d4f8727f873422c5d959fff5/raw/fa71405126017e6a37bea592440b4bee94bf7b9e/titanic.csv\"\n",
    "df = pd.read_csv(url)\n"
   ],
   "execution_count": 82,
   "outputs": [
    {
     "output_type": "stream",
     "text": [
      "80.0\n"
     ],
     "name": "stdout"
    }
   ]
  },
  {
   "cell_type": "markdown",
   "metadata": {
    "id": "qkdnfYpKXwbk",
    "colab_type": "text"
   },
   "source": [
    "### Task 1\n",
    "Find the name, age and sex of oldest passenger on Titanic"
   ]
  },
  {
   "cell_type": "code",
   "metadata": {
    "id": "A6ARjhOvXwbl",
    "colab_type": "code",
    "colab": {
     "base_uri": "https://localhost:8080/",
     "height": 52
    },
    "outputId": "6ddd17e7-3dbc-4054-c6f4-cc3a07a2e0bb"
   },
   "source": [
    "print(df.loc[df[\"Age\"] == max(df[\"Age\"]), ['Name', 'Sex', 'Age' ]])"
   ],
   "execution_count": 99,
   "outputs": [
    {
     "output_type": "stream",
     "text": [
      "                                     Name   Sex   Age\n",
      "630  Barkworth, Mr. Algernon Henry Wilson  male  80.0\n"
     ],
     "name": "stdout"
    }
   ]
  },
  {
   "cell_type": "markdown",
   "metadata": {
    "id": "hqUcO5uMXwbu",
    "colab_type": "text"
   },
   "source": [
    "### Task 2\n",
    "Show rows with passengers with age greater than 5 percantile and less than 95 percantile"
   ]
  },
  {
   "cell_type": "code",
   "metadata": {
    "id": "DFUejVfFXwbu",
    "colab_type": "code",
    "colab": {
     "base_uri": "https://localhost:8080/",
     "height": 424
    },
    "outputId": "131c65dc-de60-4974-d2f6-d26cd456b155"
   },
   "source": [
    "df[(df[\"Age\"].quantile(.05)< df[\"Age\"]) & (df[\"Age\"] < df[\"Age\"].quantile(.95))]"
   ],
   "execution_count": 100,
   "outputs": [
    {
     "output_type": "execute_result",
     "data": {
      "text/html": [
       "<div>\n",
       "<style scoped>\n",
       "    .dataframe tbody tr th:only-of-type {\n",
       "        vertical-align: middle;\n",
       "    }\n",
       "\n",
       "    .dataframe tbody tr th {\n",
       "        vertical-align: top;\n",
       "    }\n",
       "\n",
       "    .dataframe thead th {\n",
       "        text-align: right;\n",
       "    }\n",
       "</style>\n",
       "<table border=\"1\" class=\"dataframe\">\n",
       "  <thead>\n",
       "    <tr style=\"text-align: right;\">\n",
       "      <th></th>\n",
       "      <th>PassengerId</th>\n",
       "      <th>Survived</th>\n",
       "      <th>Pclass</th>\n",
       "      <th>Name</th>\n",
       "      <th>Sex</th>\n",
       "      <th>Age</th>\n",
       "      <th>SibSp</th>\n",
       "      <th>Parch</th>\n",
       "      <th>Ticket</th>\n",
       "      <th>Fare</th>\n",
       "      <th>Cabin</th>\n",
       "      <th>Embarked</th>\n",
       "    </tr>\n",
       "  </thead>\n",
       "  <tbody>\n",
       "    <tr>\n",
       "      <th>0</th>\n",
       "      <td>1</td>\n",
       "      <td>0</td>\n",
       "      <td>3</td>\n",
       "      <td>Braund, Mr. Owen Harris</td>\n",
       "      <td>male</td>\n",
       "      <td>22.0</td>\n",
       "      <td>1</td>\n",
       "      <td>0</td>\n",
       "      <td>A/5 21171</td>\n",
       "      <td>7.2500</td>\n",
       "      <td>NaN</td>\n",
       "      <td>S</td>\n",
       "    </tr>\n",
       "    <tr>\n",
       "      <th>1</th>\n",
       "      <td>2</td>\n",
       "      <td>1</td>\n",
       "      <td>1</td>\n",
       "      <td>Cumings, Mrs. John Bradley (Florence Briggs Th...</td>\n",
       "      <td>female</td>\n",
       "      <td>38.0</td>\n",
       "      <td>1</td>\n",
       "      <td>0</td>\n",
       "      <td>PC 17599</td>\n",
       "      <td>71.2833</td>\n",
       "      <td>C85</td>\n",
       "      <td>C</td>\n",
       "    </tr>\n",
       "    <tr>\n",
       "      <th>2</th>\n",
       "      <td>3</td>\n",
       "      <td>1</td>\n",
       "      <td>3</td>\n",
       "      <td>Heikkinen, Miss. Laina</td>\n",
       "      <td>female</td>\n",
       "      <td>26.0</td>\n",
       "      <td>0</td>\n",
       "      <td>0</td>\n",
       "      <td>STON/O2. 3101282</td>\n",
       "      <td>7.9250</td>\n",
       "      <td>NaN</td>\n",
       "      <td>S</td>\n",
       "    </tr>\n",
       "    <tr>\n",
       "      <th>3</th>\n",
       "      <td>4</td>\n",
       "      <td>1</td>\n",
       "      <td>1</td>\n",
       "      <td>Futrelle, Mrs. Jacques Heath (Lily May Peel)</td>\n",
       "      <td>female</td>\n",
       "      <td>35.0</td>\n",
       "      <td>1</td>\n",
       "      <td>0</td>\n",
       "      <td>113803</td>\n",
       "      <td>53.1000</td>\n",
       "      <td>C123</td>\n",
       "      <td>S</td>\n",
       "    </tr>\n",
       "    <tr>\n",
       "      <th>4</th>\n",
       "      <td>5</td>\n",
       "      <td>0</td>\n",
       "      <td>3</td>\n",
       "      <td>Allen, Mr. William Henry</td>\n",
       "      <td>male</td>\n",
       "      <td>35.0</td>\n",
       "      <td>0</td>\n",
       "      <td>0</td>\n",
       "      <td>373450</td>\n",
       "      <td>8.0500</td>\n",
       "      <td>NaN</td>\n",
       "      <td>S</td>\n",
       "    </tr>\n",
       "    <tr>\n",
       "      <th>...</th>\n",
       "      <td>...</td>\n",
       "      <td>...</td>\n",
       "      <td>...</td>\n",
       "      <td>...</td>\n",
       "      <td>...</td>\n",
       "      <td>...</td>\n",
       "      <td>...</td>\n",
       "      <td>...</td>\n",
       "      <td>...</td>\n",
       "      <td>...</td>\n",
       "      <td>...</td>\n",
       "      <td>...</td>\n",
       "    </tr>\n",
       "    <tr>\n",
       "      <th>885</th>\n",
       "      <td>886</td>\n",
       "      <td>0</td>\n",
       "      <td>3</td>\n",
       "      <td>Rice, Mrs. William (Margaret Norton)</td>\n",
       "      <td>female</td>\n",
       "      <td>39.0</td>\n",
       "      <td>0</td>\n",
       "      <td>5</td>\n",
       "      <td>382652</td>\n",
       "      <td>29.1250</td>\n",
       "      <td>NaN</td>\n",
       "      <td>Q</td>\n",
       "    </tr>\n",
       "    <tr>\n",
       "      <th>886</th>\n",
       "      <td>887</td>\n",
       "      <td>0</td>\n",
       "      <td>2</td>\n",
       "      <td>Montvila, Rev. Juozas</td>\n",
       "      <td>male</td>\n",
       "      <td>27.0</td>\n",
       "      <td>0</td>\n",
       "      <td>0</td>\n",
       "      <td>211536</td>\n",
       "      <td>13.0000</td>\n",
       "      <td>NaN</td>\n",
       "      <td>S</td>\n",
       "    </tr>\n",
       "    <tr>\n",
       "      <th>887</th>\n",
       "      <td>888</td>\n",
       "      <td>1</td>\n",
       "      <td>1</td>\n",
       "      <td>Graham, Miss. Margaret Edith</td>\n",
       "      <td>female</td>\n",
       "      <td>19.0</td>\n",
       "      <td>0</td>\n",
       "      <td>0</td>\n",
       "      <td>112053</td>\n",
       "      <td>30.0000</td>\n",
       "      <td>B42</td>\n",
       "      <td>S</td>\n",
       "    </tr>\n",
       "    <tr>\n",
       "      <th>889</th>\n",
       "      <td>890</td>\n",
       "      <td>1</td>\n",
       "      <td>1</td>\n",
       "      <td>Behr, Mr. Karl Howell</td>\n",
       "      <td>male</td>\n",
       "      <td>26.0</td>\n",
       "      <td>0</td>\n",
       "      <td>0</td>\n",
       "      <td>111369</td>\n",
       "      <td>30.0000</td>\n",
       "      <td>C148</td>\n",
       "      <td>C</td>\n",
       "    </tr>\n",
       "    <tr>\n",
       "      <th>890</th>\n",
       "      <td>891</td>\n",
       "      <td>0</td>\n",
       "      <td>3</td>\n",
       "      <td>Dooley, Mr. Patrick</td>\n",
       "      <td>male</td>\n",
       "      <td>32.0</td>\n",
       "      <td>0</td>\n",
       "      <td>0</td>\n",
       "      <td>370376</td>\n",
       "      <td>7.7500</td>\n",
       "      <td>NaN</td>\n",
       "      <td>Q</td>\n",
       "    </tr>\n",
       "  </tbody>\n",
       "</table>\n",
       "<p>635 rows × 12 columns</p>\n",
       "</div>"
      ],
      "text/plain": [
       "     PassengerId  Survived  Pclass  ...     Fare Cabin  Embarked\n",
       "0              1         0       3  ...   7.2500   NaN         S\n",
       "1              2         1       1  ...  71.2833   C85         C\n",
       "2              3         1       3  ...   7.9250   NaN         S\n",
       "3              4         1       1  ...  53.1000  C123         S\n",
       "4              5         0       3  ...   8.0500   NaN         S\n",
       "..           ...       ...     ...  ...      ...   ...       ...\n",
       "885          886         0       3  ...  29.1250   NaN         Q\n",
       "886          887         0       2  ...  13.0000   NaN         S\n",
       "887          888         1       1  ...  30.0000   B42         S\n",
       "889          890         1       1  ...  30.0000  C148         C\n",
       "890          891         0       3  ...   7.7500   NaN         Q\n",
       "\n",
       "[635 rows x 12 columns]"
      ]
     },
     "metadata": {
      "tags": []
     },
     "execution_count": 100
    }
   ]
  },
  {
   "cell_type": "markdown",
   "metadata": {
    "id": "TEUdl-3mXwbz",
    "colab_type": "text"
   },
   "source": [
    "### Task 3"
   ]
  },
  {
   "cell_type": "markdown",
   "metadata": {
    "id": "KCq9aC_4Xwb0",
    "colab_type": "text"
   },
   "source": [
    "Show correlation between features"
   ]
  },
  {
   "cell_type": "code",
   "metadata": {
    "id": "bMGMlvbnXwb0",
    "colab_type": "code",
    "colab": {
     "base_uri": "https://localhost:8080/",
     "height": 337
    },
    "outputId": "c9f0e912-0e7b-47ae-ead6-25cab8340682"
   },
   "source": [
    "corr = df.corr()\n",
    "sns.heatmap(corr)"
   ],
   "execution_count": 90,
   "outputs": [
    {
     "output_type": "execute_result",
     "data": {
      "text/plain": [
       "<matplotlib.axes._subplots.AxesSubplot at 0x7fa3a4d40400>"
      ]
     },
     "metadata": {
      "tags": []
     },
     "execution_count": 90
    },
    {
     "output_type": "display_data",
     "data": {
      "image/png": "[encoded data removed]",
      "text/plain": [
       "<Figure size 432x288 with 2 Axes>"
      ]
     },
     "metadata": {
      "tags": [],
      "needs_background": "light"
     }
    }
   ]
  },
  {
   "cell_type": "markdown",
   "metadata": {
    "id": "6xreKfp_Xwb5",
    "colab_type": "text"
   },
   "source": [
    "### Task 4\n",
    "Find average fare for survived and not survived passengers "
   ]
  },
  {
   "cell_type": "code",
   "metadata": {
    "id": "RlwgM0l2Xwb6",
    "colab_type": "code",
    "colab": {
     "base_uri": "https://localhost:8080/",
     "height": 52
    },
    "outputId": "e2f3ab4a-4ef7-4e59-d852-f088655301d7"
   },
   "source": [
    "f1 = np.average(df['Fare'][df['Survived'] == 1]) # avg fare for survived passengers\n",
    "f2 = np.average(df['Fare'][df['Survived'] == 0]) # avg fare for not survived passengers\n",
    "print(f1)\n",
    "print(f2)"
   ],
   "execution_count": 92,
   "outputs": [
    {
     "output_type": "stream",
     "text": [
      "48.39540760233918\n",
      "22.117886885245902\n"
     ],
     "name": "stdout"
    }
   ]
  },
  {
   "cell_type": "markdown",
   "metadata": {
    "id": "GDpYq4uNXwb-",
    "colab_type": "text"
   },
   "source": [
    "### Task 5\n",
    "Vizualize boxplot to compare distributions of survived and not survived passengers."
   ]
  },
  {
   "cell_type": "code",
   "metadata": {
    "id": "TCETATxbXwb-",
    "colab_type": "code",
    "colab": {
     "base_uri": "https://localhost:8080/",
     "height": 282
    },
    "outputId": "9472821d-dacc-49bd-c7b3-3c78e4b63d52"
   },
   "source": [
    "df_f1 = df.loc[df['Survived'] == 1,['Fare']]\n",
    "df_f1 = df_f1.rename(columns={\"Fare\":\"Survived\"})\n",
    "df_f1.boxplot(column=\"Survived\")\n"
   ],
   "execution_count": 130,
   "outputs": [
    {
     "output_type": "execute_result",
     "data": {
      "text/plain": [
       "<matplotlib.axes._subplots.AxesSubplot at 0x7fa3a1d7d390>"
      ]
     },
     "metadata": {
      "tags": []
     },
     "execution_count": 130
    },
    {
     "output_type": "display_data",
     "data": {
      "image/png": "[encoded data removed]",
      "text/plain": [
       "<Figure size 432x288 with 1 Axes>"
      ]
     },
     "metadata": {
      "tags": [],
      "needs_background": "light"
     }
    }
   ]
  },
  {
   "cell_type": "code",
   "metadata": {
    "id": "wKu2-kfs_3bY",
    "colab_type": "code",
    "colab": {
     "base_uri": "https://localhost:8080/",
     "height": 265
    },
    "outputId": "d7ef0e17-e39d-4025-f77f-7257122b21f9"
   },
   "source": [
    "df_f2 = df.loc[df['Survived'] == 0,['Fare']]\n",
    "df_f2 = df_f2.rename(columns={\"Fare\":\"Not survived\"})\n",
    "\n",
    "boxplot = df_f2.boxplot(column=\"Not survived\") "
   ],
   "execution_count": 131,
   "outputs": [
    {
     "output_type": "display_data",
     "data": {
      "image/png": "[encoded data removed]",
      "text/plain": [
       "<Figure size 432x288 with 1 Axes>"
      ]
     },
     "metadata": {
      "tags": [],
      "needs_background": "light"
     }
    }
   ]
  }
 ]
}